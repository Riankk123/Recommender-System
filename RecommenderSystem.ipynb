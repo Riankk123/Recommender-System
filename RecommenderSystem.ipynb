{
 "cells": [
  {
   "cell_type": "markdown",
   "metadata": {},
   "source": [
    "# Amazon Apparel Recommendation"
   ]
  },
  {
   "cell_type": "code",
   "execution_count": 1,
   "metadata": {},
   "outputs": [],
   "source": [
    "import numpy as np\n",
    "import pandas as pd\n",
    "import pickle\n"
   ]
  },
  {
   "cell_type": "markdown",
   "metadata": {},
   "source": [
    "# OverView of the Data"
   ]
  },
  {
   "cell_type": "code",
   "execution_count": null,
   "metadata": {},
   "outputs": [],
   "source": [
    "dataframe = pd.read_json(\"tops_fashion.json\")\n",
    "dataframe.head()"
   ]
  },
  {
   "cell_type": "markdown",
   "metadata": {},
   "source": [
    "# 1 Data Preprocessing"
   ]
  },
  {
   "cell_type": "markdown",
   "metadata": {},
   "source": [
    " ## 1.1 Determining the size of the Data\n",
    "     Here we take only seven important columns which will influence our recommendation system . \n",
    "     The seven columns are :\n",
    "         \"asin\"\n",
    "         \"brand\"\n",
    "         \"color\"\n",
    "         \"product_type_name\"\n",
    "         \"medium_image_url\"\n",
    "         \"title\"\n",
    "         \"formatted_price\"\n",
    "\n",
    "         \n"
   ]
  },
  {
   "cell_type": "code",
   "execution_count": null,
   "metadata": {},
   "outputs": [],
   "source": [
    "dataframe = dataframe.loc[:,[\"asin\",\"brand\",\"color\",\"product_type_name\",\"medium_image_url\",\"title\",\"formatted_price\"]]\n",
    "dataframe.shape"
   ]
  },
  {
   "cell_type": "markdown",
   "metadata": {},
   "source": [
    "## 1.2 Removal of rows which have value None in some columns and rows\n",
    "   We will filter the rows whose value in the corresponding columns \"title\",\"formatted_price\" and \"color\" are None .\n",
    "   It reduces the size to ~28000 .\n",
    "   We store it in a pickle file ."
   ]
  },
  {
   "cell_type": "code",
   "execution_count": null,
   "metadata": {},
   "outputs": [],
   "source": [
    "df = dataframe.dropna(axis = 0, how = 'any', subset = [\"title\",\"formatted_price\",\"color\"])\n",
    "print(df.shape)\n",
    "df.to_pickle('pickels/28k_apparel')"
   ]
  },
  {
   "cell_type": "markdown",
   "metadata": {},
   "source": [
    "## 1.3 Filtering Rows Whose Title has less then 5 words\n",
    "    It reduces the data to ~ 27000 .\n",
    "    We store it in the pickle file ."
   ]
  },
  {
   "cell_type": "code",
   "execution_count": null,
   "metadata": {},
   "outputs": [],
   "source": [
    "def CountWords(sentences):\n",
    "    sentences = sentences.split()\n",
    "    count = 0\n",
    "    for words in sentences:\n",
    "        count += 1\n",
    "    return count"
   ]
  },
  {
   "cell_type": "code",
   "execution_count": null,
   "metadata": {},
   "outputs": [],
   "source": [
    "df = df[df[\"title\"].apply(CountWords)>5]\n",
    "print(df.shape)\n",
    "df.to_pickle('pickels/27k_apparel')"
   ]
  },
  {
   "cell_type": "markdown",
   "metadata": {},
   "source": [
    "## 1.4 De-Duplication of the Data \n",
    "    Steps for de-duping data\n",
    "        1. We Sort the whole data based on title alphabetically This will help capture size and title discrepancies\n",
    "        2.We Put all words in T1 in a set and all words of T2 in a set then apply set difference if they differ in \n",
    "        <=2  words \n",
    "        3.After this around 17593 data points will be left  = 17K apparel\n",
    "        4.Here it is very important for you to look at data :\n",
    "            Women v/s Ladies similarity\n",
    "                  Not good if we recommend title 2 corresponding to title 1. This is like being near duplicates not                     exactly duplicates\n",
    "\n",
    "\n",
    "        5.After this size reduces to 16K products\n"
   ]
  },
  {
   "cell_type": "code",
   "execution_count": null,
   "metadata": {},
   "outputs": [],
   "source": [
    "df = df.sort_values(by='title')\n",
    "df.head()"
   ]
  },
  {
   "cell_type": "code",
   "execution_count": null,
   "metadata": {},
   "outputs": [],
   "source": [
    "indices = []\n",
    "for i,row in df.iterrows():\n",
    "    indices.append(i)\n",
    "\n"
   ]
  },
  {
   "cell_type": "code",
   "execution_count": null,
   "metadata": {},
   "outputs": [],
   "source": [
    "import itertools\n",
    "stage1 = []\n",
    "i = 0\n",
    "j = 0\n",
    "num_of_rows = df.shape[0]\n",
    "while i < num_of_rows and j < num_of_rows:\n",
    "    prev_i = i\n",
    "    a = df['title'].loc[indices[i]].split()\n",
    "    j = i+1\n",
    "    while j < num_of_rows:\n",
    "        b = df['title'].loc[indices[j]].split()\n",
    "        length = max(len(a), len(b))\n",
    "        count  = 0\n",
    "        for k in itertools.zip_longest(a,b): \n",
    "            if (k[0] == k[1]):\n",
    "                count += 1\n",
    "        if (length - count) > 2: \n",
    "            stage1.append(df['asin'].loc[indices[i]])\n",
    "            if j == num_of_rows-1: \n",
    "                stage1.append(df['asin'].loc[indices[j]])\n",
    "            i = j\n",
    "            break\n",
    "        else:\n",
    "            j += 1\n",
    "    if prev_i == i:\n",
    "        break"
   ]
  },
  {
   "cell_type": "code",
   "execution_count": null,
   "metadata": {
    "scrolled": true
   },
   "outputs": [],
   "source": [
    "df = df[df['asin'].isin(stage1)]\n",
    "print(df.shape)\n",
    "df.to_pickle('pickels/17k_apparel')"
   ]
  },
  {
   "cell_type": "code",
   "execution_count": null,
   "metadata": {},
   "outputs": [],
   "source": [
    "indices = []\n",
    "for i,row in df.iterrows():\n",
    "    indices.append(i)\n",
    "stage2 = []\n",
    "while len(indices)!=0:\n",
    "    i = indices.pop()\n",
    "    stage2.append(df['asin'].loc[i])\n",
    "    a = df['title'].loc[i].split()\n",
    "    for j in indices:\n",
    "        b = df['title'].loc[j].split()\n",
    "        length = max(len(a),len(b))\n",
    "        count = 0\n",
    "        for k in itertools.zip_longest(a,b):\n",
    "            if(k[0]==k[1]):\n",
    "                count += 1\n",
    "        if((length-count)<3):\n",
    "            indices.remove(j)"
   ]
  },
  {
   "cell_type": "code",
   "execution_count": null,
   "metadata": {},
   "outputs": [],
   "source": [
    "df = df[df['asin'].isin(stage2)]\n",
    "print(df.shape)\n",
    "df.to_pickle('pickels/16k_apparel')\n",
    "       \n",
    "        \n",
    "    "
   ]
  },
  {
   "cell_type": "markdown",
   "metadata": {},
   "source": [
    "# 2 . Text Based Reccomendation System"
   ]
  },
  {
   "cell_type": "code",
   "execution_count": 2,
   "metadata": {},
   "outputs": [
    {
     "data": {
      "text/plain": [
       "(16042, 7)"
      ]
     },
     "execution_count": 2,
     "metadata": {},
     "output_type": "execute_result"
    }
   ],
   "source": [
    "data = pd.read_pickle('pickels/16k_apperal_data')\n",
    "data.shape"
   ]
  },
  {
   "cell_type": "code",
   "execution_count": 3,
   "metadata": {},
   "outputs": [
    {
     "data": {
      "text/plain": [
       "16042"
      ]
     },
     "execution_count": 3,
     "metadata": {},
     "output_type": "execute_result"
    }
   ],
   "source": [
    "data['title'] = data['title'].str.lower()\n",
    "len(data)\n"
   ]
  },
  {
   "cell_type": "code",
   "execution_count": 4,
   "metadata": {},
   "outputs": [
    {
     "name": "stderr",
     "output_type": "stream",
     "text": [
      "[nltk_data] Downloading package stopwords to\n",
      "[nltk_data]     /Users/krishanukashyap/nltk_data...\n",
      "[nltk_data]   Package stopwords is already up-to-date!\n"
     ]
    },
    {
     "data": {
      "text/html": [
       "<div>\n",
       "<style scoped>\n",
       "    .dataframe tbody tr th:only-of-type {\n",
       "        vertical-align: middle;\n",
       "    }\n",
       "\n",
       "    .dataframe tbody tr th {\n",
       "        vertical-align: top;\n",
       "    }\n",
       "\n",
       "    .dataframe thead th {\n",
       "        text-align: right;\n",
       "    }\n",
       "</style>\n",
       "<table border=\"1\" class=\"dataframe\">\n",
       "  <thead>\n",
       "    <tr style=\"text-align: right;\">\n",
       "      <th></th>\n",
       "      <th>asin</th>\n",
       "      <th>brand</th>\n",
       "      <th>color</th>\n",
       "      <th>medium_image_url</th>\n",
       "      <th>product_type_name</th>\n",
       "      <th>title</th>\n",
       "      <th>formatted_price</th>\n",
       "    </tr>\n",
       "  </thead>\n",
       "  <tbody>\n",
       "    <tr>\n",
       "      <th>4</th>\n",
       "      <td>B004GSI2OS</td>\n",
       "      <td>FeatherLite</td>\n",
       "      <td>Onyx Black/ Stone</td>\n",
       "      <td>https://images-na.ssl-images-amazon.com/images...</td>\n",
       "      <td>SHIRT</td>\n",
       "      <td>featherlite ladies long sleeve stain resistant...</td>\n",
       "      <td>$26.26</td>\n",
       "    </tr>\n",
       "    <tr>\n",
       "      <th>6</th>\n",
       "      <td>B012YX2ZPI</td>\n",
       "      <td>HX-Kingdom Fashion T-shirts</td>\n",
       "      <td>White</td>\n",
       "      <td>https://images-na.ssl-images-amazon.com/images...</td>\n",
       "      <td>SHIRT</td>\n",
       "      <td>women s unique cotton t special olympics world...</td>\n",
       "      <td>$9.99</td>\n",
       "    </tr>\n",
       "    <tr>\n",
       "      <th>15</th>\n",
       "      <td>B003BSRPB0</td>\n",
       "      <td>FeatherLite</td>\n",
       "      <td>White</td>\n",
       "      <td>https://images-na.ssl-images-amazon.com/images...</td>\n",
       "      <td>SHIRT</td>\n",
       "      <td>featherlite ladies moisture free mesh sport sh...</td>\n",
       "      <td>$20.54</td>\n",
       "    </tr>\n",
       "    <tr>\n",
       "      <th>27</th>\n",
       "      <td>B014ICEJ1Q</td>\n",
       "      <td>FNC7C</td>\n",
       "      <td>Purple</td>\n",
       "      <td>https://images-na.ssl-images-amazon.com/images...</td>\n",
       "      <td>SHIRT</td>\n",
       "      <td>supernatural chibis sam dean and castiel o nec...</td>\n",
       "      <td>$7.39</td>\n",
       "    </tr>\n",
       "    <tr>\n",
       "      <th>46</th>\n",
       "      <td>B01NACPBG2</td>\n",
       "      <td>Fifth Degree</td>\n",
       "      <td>Black</td>\n",
       "      <td>https://images-na.ssl-images-amazon.com/images...</td>\n",
       "      <td>SHIRT</td>\n",
       "      <td>fifth degree womens gold foil graphic tees jun...</td>\n",
       "      <td>$6.95</td>\n",
       "    </tr>\n",
       "  </tbody>\n",
       "</table>\n",
       "</div>"
      ],
      "text/plain": [
       "          asin                        brand              color  \\\n",
       "4   B004GSI2OS                  FeatherLite  Onyx Black/ Stone   \n",
       "6   B012YX2ZPI  HX-Kingdom Fashion T-shirts              White   \n",
       "15  B003BSRPB0                  FeatherLite              White   \n",
       "27  B014ICEJ1Q                        FNC7C             Purple   \n",
       "46  B01NACPBG2                 Fifth Degree              Black   \n",
       "\n",
       "                                     medium_image_url product_type_name  \\\n",
       "4   https://images-na.ssl-images-amazon.com/images...             SHIRT   \n",
       "6   https://images-na.ssl-images-amazon.com/images...             SHIRT   \n",
       "15  https://images-na.ssl-images-amazon.com/images...             SHIRT   \n",
       "27  https://images-na.ssl-images-amazon.com/images...             SHIRT   \n",
       "46  https://images-na.ssl-images-amazon.com/images...             SHIRT   \n",
       "\n",
       "                                                title formatted_price  \n",
       "4   featherlite ladies long sleeve stain resistant...          $26.26  \n",
       "6   women s unique cotton t special olympics world...           $9.99  \n",
       "15  featherlite ladies moisture free mesh sport sh...          $20.54  \n",
       "27  supernatural chibis sam dean and castiel o nec...           $7.39  \n",
       "46  fifth degree womens gold foil graphic tees jun...           $6.95  "
      ]
     },
     "execution_count": 4,
     "metadata": {},
     "output_type": "execute_result"
    }
   ],
   "source": [
    "import re\n",
    "import nltk\n",
    "nltk.download('stopwords')\n",
    "from nltk.corpus import stopwords\n",
    "corpus = []\n",
    "for i in range(0,len(data)):\n",
    "    title = re.sub('[^a-zA-Z]', ' ', data.iloc[i]['title'])\n",
    "    title = title.lower()\n",
    "    title = title.split()\n",
    "    title = ' '.join(title)\n",
    "    data.iloc[i]['title'] = title\n",
    "data.head()"
   ]
  },
  {
   "cell_type": "code",
   "execution_count": 5,
   "metadata": {},
   "outputs": [
    {
     "data": {
      "text/plain": [
       "(16042, 9737)"
      ]
     },
     "execution_count": 5,
     "metadata": {},
     "output_type": "execute_result"
    }
   ],
   "source": [
    "from sklearn.feature_extraction.text import TfidfVectorizer\n",
    "tfidf_title = TfidfVectorizer(min_df = 0)\n",
    "tfidf_feature_title = tfidf_title.fit_transform(data['title'])\n",
    "tfidf_feature_title.shape\n"
   ]
  },
  {
   "cell_type": "code",
   "execution_count": 6,
   "metadata": {},
   "outputs": [
    {
     "data": {
      "text/plain": [
       "\"\\nfrom collections import Counter \\ndef text2vector(text):\\n    word = re.compile(r'\\\\w+')\\n    words = word.findall(text)\\n    return Counter(words) \\ndef get_result(data_id, content1, content2):\\n    text1 = content1\\n    text2 = content2\\n    vector1 = text2vector(text1)\\n    vector2 = text2vector(text2)\\n\""
      ]
     },
     "execution_count": 6,
     "metadata": {},
     "output_type": "execute_result"
    }
   ],
   "source": [
    "'''\n",
    "from collections import Counter \n",
    "def text2vector(text):\n",
    "    word = re.compile(r'\\w+')\n",
    "    words = word.findall(text)\n",
    "    return Counter(words) \n",
    "def get_result(data_id, content1, content2):\n",
    "    text1 = content1\n",
    "    text2 = content2\n",
    "    vector1 = text2vector(text1)\n",
    "    vector2 = text2vector(text2)\n",
    "'''"
   ]
  },
  {
   "cell_type": "code",
   "execution_count": 25,
   "metadata": {},
   "outputs": [
    {
     "name": "stdout",
     "output_type": "stream",
     "text": [
      "ASIN : B073WKCX36\n",
      "Brand: Fjallraven\n",
      "Title: fjallraven women s alphabotanical t shirt lily m\n",
      "Image: \n"
     ]
    },
    {
     "data": {
      "image/jpeg": "[encoded data removed]",
      "text/plain": [
       "<IPython.core.display.Image object>"
      ]
     },
     "metadata": {},
     "output_type": "display_data"
    },
    {
     "name": "stdout",
     "output_type": "stream",
     "text": [
      "Euclidean similarity with the query image : 0.0\n",
      "============================================================\n",
      "ASIN : B06XC3CZF6\n",
      "Brand: Fjallraven\n",
      "Title: fjallraven women s ovik t shirt plum xxl\n",
      "Image: \n"
     ]
    },
    {
     "data": {
      "image/jpeg": "[encoded data removed]",
      "text/plain": [
       "<IPython.core.display.Image object>"
      ]
     },
     "metadata": {},
     "output_type": "display_data"
    },
    {
     "name": "stdout",
     "output_type": "stream",
     "text": [
      "Euclidean similarity with the query image : 2.5421404731507615\n",
      "============================================================\n",
      "ASIN : B06XDD9XX6\n",
      "Brand: Fjallraven\n",
      "Title: fjallraven women s meadow t shirt green xxs\n",
      "Image: \n"
     ]
    },
    {
     "data": {
      "image/jpeg": "[encoded data removed]",
      "text/plain": [
       "<IPython.core.display.Image object>"
      ]
     },
     "metadata": {},
     "output_type": "display_data"
    },
    {
     "name": "stdout",
     "output_type": "stream",
     "text": [
      "Euclidean similarity with the query image : 2.546141777391603\n",
      "============================================================\n",
      "ASIN : B01GXAZT4C\n",
      "Brand: Tony Arden\n",
      "Title: chicago chicago women t shirt blue\n",
      "Image: \n"
     ]
    },
    {
     "data": {
      "image/jpeg": "[encoded data removed]",
      "text/plain": [
       "<IPython.core.display.Image object>"
      ]
     },
     "metadata": {},
     "output_type": "display_data"
    },
    {
     "name": "stdout",
     "output_type": "stream",
     "text": [
      "Euclidean similarity with the query image : 2.8772682252353845\n",
      "============================================================\n",
      "ASIN : B01GXAZTRY\n",
      "Brand: Tony Arden\n",
      "Title: chicago chicago t shirt women pink\n",
      "Image: \n"
     ]
    },
    {
     "data": {
      "image/jpeg": "[encoded data removed]",
      "text/plain": [
       "<IPython.core.display.Image object>"
      ]
     },
     "metadata": {},
     "output_type": "display_data"
    },
    {
     "name": "stdout",
     "output_type": "stream",
     "text": [
      "Euclidean similarity with the query image : 2.896386515959134\n",
      "============================================================\n",
      "ASIN : B06X19BNJB\n",
      "Brand: Fjallraven\n",
      "Title: fjallraven women s ovik t shirt ocean mist xs\n",
      "Image: \n"
     ]
    },
    {
     "data": {
      "image/jpeg": "[encoded data removed]",
      "text/plain": [
       "<IPython.core.display.Image object>"
      ]
     },
     "metadata": {},
     "output_type": "display_data"
    },
    {
     "name": "stdout",
     "output_type": "stream",
     "text": [
      "Euclidean similarity with the query image : 2.9336279480070164\n",
      "============================================================\n",
      "ASIN : B01NBTWIOM\n",
      "Brand: Fjallraven\n",
      "Title: fjallraven women s ovik longsleeve top navy xs\n",
      "Image: \n"
     ]
    },
    {
     "data": {
      "image/jpeg": "[encoded data removed]",
      "text/plain": [
       "<IPython.core.display.Image object>"
      ]
     },
     "metadata": {},
     "output_type": "display_data"
    },
    {
     "name": "stdout",
     "output_type": "stream",
     "text": [
      "Euclidean similarity with the query image : 3.0642127919988056\n",
      "============================================================\n",
      "ASIN : B01ND0FEE9\n",
      "Brand: Weston\n",
      "Title: weston women s lily tank multi color large\n",
      "Image: \n"
     ]
    },
    {
     "data": {
      "image/jpeg": "[encoded data removed]",
      "text/plain": [
       "<IPython.core.display.Image object>"
      ]
     },
     "metadata": {},
     "output_type": "display_data"
    },
    {
     "name": "stdout",
     "output_type": "stream",
     "text": [
      "Euclidean similarity with the query image : 3.10113748825736\n",
      "============================================================\n",
      "ASIN : B005IT8OBA\n",
      "Brand: Hetalia\n",
      "Title: hetalia u s girl t shirt m\n",
      "Image: \n"
     ]
    },
    {
     "data": {
      "image/jpeg": "[encoded data removed]",
      "text/plain": [
       "<IPython.core.display.Image object>"
      ]
     },
     "metadata": {},
     "output_type": "display_data"
    },
    {
     "name": "stdout",
     "output_type": "stream",
     "text": [
      "Euclidean similarity with the query image : 3.178258895563687\n",
      "============================================================\n",
      "ASIN : B072YLH4NS\n",
      "Brand: BURBERRY\n",
      "Title: burberry women s white v neck t shirt l\n",
      "Image: \n"
     ]
    },
    {
     "data": {
      "image/jpeg": "[encoded data removed]",
      "text/plain": [
       "<IPython.core.display.Image object>"
      ]
     },
     "metadata": {},
     "output_type": "display_data"
    },
    {
     "name": "stdout",
     "output_type": "stream",
     "text": [
      "Euclidean similarity with the query image : 3.2194431462933295\n",
      "============================================================\n",
      "ASIN : B01GXAZPRS\n",
      "Brand: Tony Arden\n",
      "Title: chicago chicago woman s t shirt black\n",
      "Image: \n"
     ]
    },
    {
     "data": {
      "image/jpeg": "[encoded data removed]",
      "text/plain": [
       "<IPython.core.display.Image object>"
      ]
     },
     "metadata": {},
     "output_type": "display_data"
    },
    {
     "name": "stdout",
     "output_type": "stream",
     "text": [
      "Euclidean similarity with the query image : 3.220489473850521\n",
      "============================================================\n",
      "ASIN : B01H51HDN8\n",
      "Brand: Tony Arden\n",
      "Title: duran duran greatest women t shirt white\n",
      "Image: \n"
     ]
    },
    {
     "data": {
      "image/jpeg": "[encoded data removed]",
      "text/plain": [
       "<IPython.core.display.Image object>"
      ]
     },
     "metadata": {},
     "output_type": "display_data"
    },
    {
     "name": "stdout",
     "output_type": "stream",
     "text": [
      "Euclidean similarity with the query image : 3.2205394511501284\n",
      "============================================================\n",
      "ASIN : B01H51HH6G\n",
      "Brand: Tony Arden\n",
      "Title: duran duran greatest t shirt women white\n",
      "Image: \n"
     ]
    },
    {
     "data": {
      "image/jpeg": "[encoded data removed]",
      "text/plain": [
       "<IPython.core.display.Image object>"
      ]
     },
     "metadata": {},
     "output_type": "display_data"
    },
    {
     "name": "stdout",
     "output_type": "stream",
     "text": [
      "Euclidean similarity with the query image : 3.2205394511501284\n",
      "============================================================\n",
      "ASIN : B0749P1W78\n",
      "Brand: MISOOK\n",
      "Title: misook womens misook tank m\n",
      "Image: \n"
     ]
    },
    {
     "data": {
      "image/jpeg": "[encoded data removed]",
      "text/plain": [
       "<IPython.core.display.Image object>"
      ]
     },
     "metadata": {},
     "output_type": "display_data"
    },
    {
     "name": "stdout",
     "output_type": "stream",
     "text": [
      "Euclidean similarity with the query image : 3.2372648074400003\n",
      "============================================================\n",
      "ASIN : B0713Q513M\n",
      "Brand: CBK\n",
      "Title: cbk t shirt ambre women m white\n",
      "Image: \n"
     ]
    },
    {
     "data": {
      "image/jpeg": "[encoded data removed]",
      "text/plain": [
       "<IPython.core.display.Image object>"
      ]
     },
     "metadata": {},
     "output_type": "display_data"
    },
    {
     "name": "stdout",
     "output_type": "stream",
     "text": [
      "Euclidean similarity with the query image : 3.2574620746647347\n",
      "============================================================\n",
      "ASIN : B074KBRNX5\n",
      "Brand: Sunshine\n",
      "Title: women s v neck sexy mature t shirt\n",
      "Image: \n"
     ]
    },
    {
     "data": {
      "image/jpeg": "[encoded data removed]",
      "text/plain": [
       "<IPython.core.display.Image object>"
      ]
     },
     "metadata": {},
     "output_type": "display_data"
    },
    {
     "name": "stdout",
     "output_type": "stream",
     "text": [
      "Euclidean similarity with the query image : 3.2623241125240527\n",
      "============================================================\n",
      "ASIN : B01CK3TYW4\n",
      "Brand: Fenini\n",
      "Title: women s fenini black patch shirt x\n",
      "Image: \n"
     ]
    },
    {
     "data": {
      "image/jpeg": "[encoded data removed]",
      "text/plain": [
       "<IPython.core.display.Image object>"
      ]
     },
     "metadata": {},
     "output_type": "display_data"
    },
    {
     "name": "stdout",
     "output_type": "stream",
     "text": [
      "Euclidean similarity with the query image : 3.2767052394970784\n",
      "============================================================\n",
      "ASIN : B007TVDEG0\n",
      "Brand: Tokidoki\n",
      "Title: tokidoki harmony women s shirt small\n",
      "Image: \n"
     ]
    },
    {
     "data": {
      "image/jpeg": "[encoded data removed]",
      "text/plain": [
       "<IPython.core.display.Image object>"
      ]
     },
     "metadata": {},
     "output_type": "display_data"
    },
    {
     "name": "stdout",
     "output_type": "stream",
     "text": [
      "Euclidean similarity with the query image : 3.2814882138623758\n",
      "============================================================\n",
      "ASIN : B01N5OKGNQ\n",
      "Brand: Fjällräven\n",
      "Title: fjallraven women s abisko trail t shirt print dark grey xl\n",
      "Image: \n"
     ]
    },
    {
     "data": {
      "image/jpeg": "[encoded data removed]",
      "text/plain": [
       "<IPython.core.display.Image object>"
      ]
     },
     "metadata": {},
     "output_type": "display_data"
    },
    {
     "name": "stdout",
     "output_type": "stream",
     "text": [
      "Euclidean similarity with the query image : 3.2984115322272967\n",
      "============================================================\n",
      "ASIN : B072L1N7TN\n",
      "Brand: CBK\n",
      "Title: cbk t shirt maria women s green\n",
      "Image: \n"
     ]
    },
    {
     "data": {
      "image/jpeg": "[encoded data removed]",
      "text/plain": [
       "<IPython.core.display.Image object>"
      ]
     },
     "metadata": {},
     "output_type": "display_data"
    },
    {
     "name": "stdout",
     "output_type": "stream",
     "text": [
      "Euclidean similarity with the query image : 3.3234513506461605\n",
      "============================================================\n"
     ]
    }
   ],
   "source": [
    "from IPython.display import display, Image, SVG, Math, YouTubeVideo\n",
    "from sklearn.metrics import pairwise_distances\n",
    "from sklearn.metrics.pairwise import pairwise_kernels\n",
    "\n",
    "from sklearn.metrics.pairwise import manhattan_distances\n",
    "def tfIdf_model(data_id, numOfResults):\n",
    "    pairwise_dist = manhattan_distances(tfidf_feature_title,tfidf_feature_title[data_id])\n",
    "    indices = np.argsort(pairwise_dist.flatten())[0:numOfResults]\n",
    "    pdists  = np.sort(pairwise_dist.flatten())[0:numOfResults]\n",
    "    df_indices = list(data.index[indices])\n",
    "    for i in range(0,len(indices)):\n",
    "        #get_result(indices[i],data['title'].loc[df_indices[0]], data['title'].loc[df_indices[i]],)\n",
    "        print('ASIN :',data['asin'].loc[df_indices[i]])\n",
    "        print ('Brand:', data['brand'].loc[df_indices[i]])\n",
    "        print ('Title:', data['title'].loc[df_indices[i]])\n",
    "        print('Image: ')\n",
    "        display(Image(url=data['medium_image_url'].loc[df_indices[i]],embed = True ))\n",
    "        print('Euclidean similarity with the query image :', pdists[i])\n",
    "        print('='*60)\n",
    "tfIdf_model(16, 20)"
   ]
  },
  {
   "cell_type": "code",
   "execution_count": 27,
   "metadata": {},
   "outputs": [
    {
     "name": "stdout",
     "output_type": "stream",
     "text": [
      "ASIN : B01M0LJ7TI\n",
      "Brand: Minga London\n",
      "Title: babe unitard jumpsuit playsuit womens tumblr pink print barbie kawaii\n",
      "Image: \n"
     ]
    },
    {
     "data": {
      "image/jpeg": "[encoded data removed]",
      "text/plain": [
       "<IPython.core.display.Image object>"
      ]
     },
     "metadata": {},
     "output_type": "display_data"
    },
    {
     "name": "stdout",
     "output_type": "stream",
     "text": [
      "Euclidean similarity with the query image : 0.0\n",
      "============================================================\n",
      "ASIN : B010N22ZUM\n",
      "Brand: EnergieNYC\n",
      "Title: energie nyc black juniors ruched muscle tee large\n",
      "Image: \n"
     ]
    },
    {
     "data": {
      "image/jpeg": "[encoded data removed]",
      "text/plain": [
       "<IPython.core.display.Image object>"
      ]
     },
     "metadata": {},
     "output_type": "display_data"
    },
    {
     "name": "stdout",
     "output_type": "stream",
     "text": [
      "Euclidean similarity with the query image : 0.0\n",
      "============================================================\n",
      "ASIN : B073PH7KNV\n",
      "Brand: Haute Rogue\n",
      "Title: haute rogue womens embroidered seersucker tunic top s blue\n",
      "Image: \n"
     ]
    },
    {
     "data": {
      "image/jpeg": "[encoded data removed]",
      "text/plain": [
       "<IPython.core.display.Image object>"
      ]
     },
     "metadata": {},
     "output_type": "display_data"
    },
    {
     "name": "stdout",
     "output_type": "stream",
     "text": [
      "Euclidean similarity with the query image : 0.0\n",
      "============================================================\n",
      "ASIN : B01H5X6V7U\n",
      "Brand: Hometown Clothing\n",
      "Title: bundle soft flowy tank top lightweight off coupon white xxl\n",
      "Image: \n"
     ]
    },
    {
     "data": {
      "image/jpeg": "[encoded data removed]",
      "text/plain": [
       "<IPython.core.display.Image object>"
      ]
     },
     "metadata": {},
     "output_type": "display_data"
    },
    {
     "name": "stdout",
     "output_type": "stream",
     "text": [
      "Euclidean similarity with the query image : 0.0\n",
      "============================================================\n",
      "ASIN : B016WP84OA\n",
      "Brand: Grace Elements\n",
      "Title: grace elements ladies large short sleeve ruffle edge top hawaiian sea white\n",
      "Image: \n"
     ]
    },
    {
     "data": {
      "image/jpeg": "[encoded data removed]",
      "text/plain": [
       "<IPython.core.display.Image object>"
      ]
     },
     "metadata": {},
     "output_type": "display_data"
    },
    {
     "name": "stdout",
     "output_type": "stream",
     "text": [
      "Euclidean similarity with the query image : 0.0\n",
      "============================================================\n",
      "ASIN : B01HER0574\n",
      "Brand: Xuguanghui\n",
      "Title: female max cars logo t shirts xxl\n",
      "Image: \n"
     ]
    },
    {
     "data": {
      "image/jpeg": "[encoded data removed]",
      "text/plain": [
       "<IPython.core.display.Image object>"
      ]
     },
     "metadata": {},
     "output_type": "display_data"
    },
    {
     "name": "stdout",
     "output_type": "stream",
     "text": [
      "Euclidean similarity with the query image : 0.0\n",
      "============================================================\n",
      "ASIN : B00HKXHAQM\n",
      "Brand: Lauren Jeans Co.\n",
      "Title: lauren jeans co blue sleeveless blouse pt s\n",
      "Image: \n"
     ]
    },
    {
     "data": {
      "image/jpeg": "[encoded data removed]",
      "text/plain": [
       "<IPython.core.display.Image object>"
      ]
     },
     "metadata": {},
     "output_type": "display_data"
    },
    {
     "name": "stdout",
     "output_type": "stream",
     "text": [
      "Euclidean similarity with the query image : 0.0\n",
      "============================================================\n",
      "ASIN : B01NCJ5PRX\n",
      "Brand: Mogul Interior\n",
      "Title: womens strap top blue embriodered sexy dress m\n",
      "Image: \n"
     ]
    },
    {
     "data": {
      "image/jpeg": "[encoded data removed]",
      "text/plain": [
       "<IPython.core.display.Image object>"
      ]
     },
     "metadata": {},
     "output_type": "display_data"
    },
    {
     "name": "stdout",
     "output_type": "stream",
     "text": [
      "Euclidean similarity with the query image : 0.0\n",
      "============================================================\n",
      "ASIN : B00ED34R3Q\n",
      "Brand: None\n",
      "Title: pizzazz performance wear hpkblk ys youth panel top with keyhole hot pink with black youth small\n",
      "Image: \n"
     ]
    },
    {
     "data": {
      "image/jpeg": "[encoded data removed]",
      "text/plain": [
       "<IPython.core.display.Image object>"
      ]
     },
     "metadata": {},
     "output_type": "display_data"
    },
    {
     "name": "stdout",
     "output_type": "stream",
     "text": [
      "Euclidean similarity with the query image : 0.0\n",
      "============================================================\n",
      "ASIN : B072BK2FDJ\n",
      "Brand: Exotic India\n",
      "Title: exotic india jet black kashmiri jacket with ari hand embroidered maple leaves\n",
      "Image: \n"
     ]
    },
    {
     "data": {
      "image/jpeg": "[encoded data removed]",
      "text/plain": [
       "<IPython.core.display.Image object>"
      ]
     },
     "metadata": {},
     "output_type": "display_data"
    },
    {
     "name": "stdout",
     "output_type": "stream",
     "text": [
      "Euclidean similarity with the query image : 0.0\n",
      "============================================================\n",
      "ASIN : B06XX6ZPTX\n",
      "Brand: Material Girl\n",
      "Title: material girl festival fuscha top blouse sleeveless size m nwt movaz\n",
      "Image: \n"
     ]
    },
    {
     "data": {
      "image/jpeg": "[encoded data removed]",
      "text/plain": [
       "<IPython.core.display.Image object>"
      ]
     },
     "metadata": {},
     "output_type": "display_data"
    },
    {
     "name": "stdout",
     "output_type": "stream",
     "text": [
      "Euclidean similarity with the query image : 0.0\n",
      "============================================================\n",
      "ASIN : B01MRZHU66\n",
      "Brand: Dolce & Gabbana\n",
      "Title: dolce gabbana white cotton top\n",
      "Image: \n"
     ]
    },
    {
     "data": {
      "image/jpeg": "[encoded data removed]",
      "text/plain": [
       "<IPython.core.display.Image object>"
      ]
     },
     "metadata": {},
     "output_type": "display_data"
    },
    {
     "name": "stdout",
     "output_type": "stream",
     "text": [
      "Euclidean similarity with the query image : 0.0\n",
      "============================================================\n",
      "ASIN : B06WGW7R5H\n",
      "Brand: Qingsun\n",
      "Title: qingsun woman s fake necklace choker collar beads rhinestones fake false lace doll detachable collar white\n",
      "Image: \n"
     ]
    },
    {
     "data": {
      "image/jpeg": "[encoded data removed]",
      "text/plain": [
       "<IPython.core.display.Image object>"
      ]
     },
     "metadata": {},
     "output_type": "display_data"
    },
    {
     "name": "stdout",
     "output_type": "stream",
     "text": [
      "Euclidean similarity with the query image : 0.0\n",
      "============================================================\n",
      "ASIN : B00IK50R64\n",
      "Brand: Tory Burch\n",
      "Title: tory burch blouse pink shell gracelynn tunic top size\n",
      "Image: \n"
     ]
    },
    {
     "data": {
      "image/jpeg": "[encoded data removed]",
      "text/plain": [
       "<IPython.core.display.Image object>"
      ]
     },
     "metadata": {},
     "output_type": "display_data"
    },
    {
     "name": "stdout",
     "output_type": "stream",
     "text": [
      "Euclidean similarity with the query image : 0.0\n",
      "============================================================\n",
      "ASIN : B015UQ78DA\n",
      "Brand: Kristine Accessories\n",
      "Title: kristine accessories sassy anytime tunic red s m\n",
      "Image: \n"
     ]
    },
    {
     "data": {
      "image/jpeg": "[encoded data removed]",
      "text/plain": [
       "<IPython.core.display.Image object>"
      ]
     },
     "metadata": {},
     "output_type": "display_data"
    },
    {
     "name": "stdout",
     "output_type": "stream",
     "text": [
      "Euclidean similarity with the query image : 0.0\n",
      "============================================================\n",
      "ASIN : B00C9EW9UY\n",
      "Brand: Cypress Collectibles Embroidered Patches\n",
      "Title: large australia flag embroidered patch australian iron on national emblem\n",
      "Image: \n"
     ]
    },
    {
     "data": {
      "image/jpeg": "[encoded data removed]",
      "text/plain": [
       "<IPython.core.display.Image object>"
      ]
     },
     "metadata": {},
     "output_type": "display_data"
    },
    {
     "name": "stdout",
     "output_type": "stream",
     "text": [
      "Euclidean similarity with the query image : 0.0\n",
      "============================================================\n",
      "ASIN : B074T2ZBL7\n",
      "Brand: Soft Joie\n",
      "Title: soft joie womens cenna top xs beige\n",
      "Image: \n"
     ]
    },
    {
     "data": {
      "image/jpeg": "[encoded data removed]",
      "text/plain": [
       "<IPython.core.display.Image object>"
      ]
     },
     "metadata": {},
     "output_type": "display_data"
    },
    {
     "name": "stdout",
     "output_type": "stream",
     "text": [
      "Euclidean similarity with the query image : 0.0\n",
      "============================================================\n",
      "ASIN : B01E0PZWOE\n",
      "Brand: Sacred Threads\n",
      "Title: embroidered top w lace sleeves one size navy blue\n",
      "Image: \n"
     ]
    },
    {
     "data": {
      "image/jpeg": "[encoded data removed]",
      "text/plain": [
       "<IPython.core.display.Image object>"
      ]
     },
     "metadata": {},
     "output_type": "display_data"
    },
    {
     "name": "stdout",
     "output_type": "stream",
     "text": [
      "Euclidean similarity with the query image : 0.0\n",
      "============================================================\n",
      "ASIN : B072XMKT6G\n",
      "Brand: Ten Sixty Sherman\n",
      "Title: ten sixty sherman large i was just thinking graphic tee black l\n",
      "Image: \n"
     ]
    },
    {
     "data": {
      "image/jpeg": "[encoded data removed]",
      "text/plain": [
       "<IPython.core.display.Image object>"
      ]
     },
     "metadata": {},
     "output_type": "display_data"
    },
    {
     "name": "stdout",
     "output_type": "stream",
     "text": [
      "Euclidean similarity with the query image : 0.0\n",
      "============================================================\n",
      "ASIN : B07428GLQ7\n",
      "Brand: Sacred Threads\n",
      "Title: sacred threadscaftan embroidery drawstring trendy top xs\n",
      "Image: \n"
     ]
    },
    {
     "data": {
      "image/jpeg": "[encoded data removed]",
      "text/plain": [
       "<IPython.core.display.Image object>"
      ]
     },
     "metadata": {},
     "output_type": "display_data"
    },
    {
     "name": "stdout",
     "output_type": "stream",
     "text": [
      "Euclidean similarity with the query image : 0.0\n",
      "============================================================\n"
     ]
    }
   ],
   "source": [
    "from IPython.display import display, Image, SVG, Math, YouTubeVideo\n",
    "from sklearn.metrics import pairwise_distances\n",
    "from sklearn.metrics.pairwise import pairwise_kernels\n",
    "from sklearn.metrics.pairwise import manhattan_distances\n",
    "from sklearn.metrics.pairwise import cosine_similarity\n",
    "def tfIdf_model(data_id, numOfResults):\n",
    "    pairwise_dist = cosine_similarity(tfidf_feature_title,tfidf_feature_title[data_id])\n",
    "    indices = np.argsort(pairwise_dist.flatten())[0:numOfResults]\n",
    "    pdists  = np.sort(pairwise_dist.flatten())[0:numOfResults]\n",
    "    df_indices = list(data.index[indices])\n",
    "    for i in range(0,len(indices)):\n",
    "        #get_result(indices[i],data['title'].loc[df_indices[0]], data['title'].loc[df_indices[i]],)\n",
    "        print('ASIN :',data['asin'].loc[df_indices[i]])\n",
    "        print ('Brand:', data['brand'].loc[df_indices[i]])\n",
    "        print ('Title:', data['title'].loc[df_indices[i]])\n",
    "        print('Image: ')\n",
    "        display(Image(url=data['medium_image_url'].loc[df_indices[i]],embed = True ))\n",
    "        print('Euclidean similarity with the query image :', pdists[i])\n",
    "        print('='*60)\n",
    "tfIdf_model(16, 20)"
   ]
  },
  {
   "cell_type": "markdown",
   "metadata": {},
   "source": [
    "# 3. Image Based Reccomendation System"
   ]
  },
  {
   "cell_type": "code",
   "execution_count": 8,
   "metadata": {},
   "outputs": [],
   "source": [
    "ModifiedDataAsin = np.load('16k_data_cnn_feature_asins.npy')\n"
   ]
  },
  {
   "cell_type": "code",
   "execution_count": 9,
   "metadata": {},
   "outputs": [
    {
     "name": "stdout",
     "output_type": "stream",
     "text": [
      "(16042, 25088)\n",
      "(16042, 7)\n"
     ]
    }
   ],
   "source": [
    "ModifiedDataPostCNN = np.load('16k_data_cnn_features.npy')\n",
    "data = pd.read_pickle('pickels/16k_apperal_data')\n",
    "print(ModifiedDataPostCNN.shape)\n",
    "print(data.shape)"
   ]
  },
  {
   "cell_type": "code",
   "execution_count": 10,
   "metadata": {},
   "outputs": [],
   "source": [
    "ModifiedDataAsin = list(ModifiedDataAsin)"
   ]
  },
  {
   "cell_type": "code",
   "execution_count": 11,
   "metadata": {},
   "outputs": [
    {
     "data": {
      "text/plain": [
       "'Image:'"
      ]
     },
     "metadata": {},
     "output_type": "display_data"
    },
    {
     "data": {
      "image/jpeg": "[encoded data removed]",
      "text/plain": [
       "<IPython.core.display.Image object>"
      ]
     },
     "metadata": {},
     "output_type": "display_data"
    },
    {
     "name": "stdout",
     "output_type": "stream",
     "text": [
      "Title : Women's Cute Tshirt - My Chemical Romance DeepHeather Size M\n",
      "Distance from the Query image : 1.9073486e-06\n",
      "**********************************************************************\n"
     ]
    },
    {
     "data": {
      "text/plain": [
       "'Image:'"
      ]
     },
     "metadata": {},
     "output_type": "display_data"
    },
    {
     "data": {
      "image/jpeg": "[encoded data removed]",
      "text/plain": [
       "<IPython.core.display.Image object>"
      ]
     },
     "metadata": {},
     "output_type": "display_data"
    },
    {
     "name": "stdout",
     "output_type": "stream",
     "text": [
      "Title : HUBA Women's Tees Hope Solo DeepHeather Size XS\n",
      "Distance from the Query image : 18.706451\n",
      "**********************************************************************\n"
     ]
    },
    {
     "data": {
      "text/plain": [
       "'Image:'"
      ]
     },
     "metadata": {},
     "output_type": "display_data"
    },
    {
     "data": {
      "image/jpeg": "[encoded data removed]",
      "text/plain": [
       "<IPython.core.display.Image object>"
      ]
     },
     "metadata": {},
     "output_type": "display_data"
    },
    {
     "name": "stdout",
     "output_type": "stream",
     "text": [
      "Title : Women's Cute Tshirts - My Chemical Romance Purple Size XXL\n",
      "Distance from the Query image : 20.165726\n",
      "**********************************************************************\n"
     ]
    },
    {
     "data": {
      "text/plain": [
       "'Image:'"
      ]
     },
     "metadata": {},
     "output_type": "display_data"
    },
    {
     "data": {
      "image/jpeg": "[encoded data removed]",
      "text/plain": [
       "<IPython.core.display.Image object>"
      ]
     },
     "metadata": {},
     "output_type": "display_data"
    },
    {
     "name": "stdout",
     "output_type": "stream",
     "text": [
      "Title : ZEKO Women's Tees The United Arab Emirates Flag Dubai Size L DeepHeather\n",
      "Distance from the Query image : 20.853035\n",
      "**********************************************************************\n"
     ]
    },
    {
     "data": {
      "text/plain": [
       "'Image:'"
      ]
     },
     "metadata": {},
     "output_type": "display_data"
    },
    {
     "data": {
      "image/jpeg": "[encoded data removed]",
      "text/plain": [
       "<IPython.core.display.Image object>"
      ]
     },
     "metadata": {},
     "output_type": "display_data"
    },
    {
     "name": "stdout",
     "output_type": "stream",
     "text": [
      "Title : Supernatural Chibis Sam Dean And Castiel Cotton T Shirts For Women's DeepHeather XXL\n",
      "Distance from the Query image : 21.078283\n",
      "**********************************************************************\n"
     ]
    },
    {
     "data": {
      "text/plain": [
       "'Image:'"
      ]
     },
     "metadata": {},
     "output_type": "display_data"
    },
    {
     "data": {
      "image/jpeg": "[encoded data removed]",
      "text/plain": [
       "<IPython.core.display.Image object>"
      ]
     },
     "metadata": {},
     "output_type": "display_data"
    },
    {
     "name": "stdout",
     "output_type": "stream",
     "text": [
      "Title : Supernatural Chibis Sam Dean And Castiel Cotton T-Shirt For Women DeepHeather XL\n",
      "Distance from the Query image : 21.078283\n",
      "**********************************************************************\n"
     ]
    },
    {
     "data": {
      "text/plain": [
       "'Image:'"
      ]
     },
     "metadata": {},
     "output_type": "display_data"
    },
    {
     "data": {
      "image/jpeg": "[encoded data removed]",
      "text/plain": [
       "<IPython.core.display.Image object>"
      ]
     },
     "metadata": {},
     "output_type": "display_data"
    },
    {
     "name": "stdout",
     "output_type": "stream",
     "text": [
      "Title : Supernatural Chibis Sam Dean And Castiel O Neck T Shirt For Female DeepHeather L\n",
      "Distance from the Query image : 21.078283\n",
      "**********************************************************************\n"
     ]
    },
    {
     "data": {
      "text/plain": [
       "'Image:'"
      ]
     },
     "metadata": {},
     "output_type": "display_data"
    },
    {
     "data": {
      "image/jpeg": "[encoded data removed]",
      "text/plain": [
       "<IPython.core.display.Image object>"
      ]
     },
     "metadata": {},
     "output_type": "display_data"
    },
    {
     "name": "stdout",
     "output_type": "stream",
     "text": [
      "Title : Supernatural Chibis Sam Dean And Castiel Organic Cotton T Shirts For Women's DeepHeather M\n",
      "Distance from the Query image : 21.078283\n",
      "**********************************************************************\n"
     ]
    },
    {
     "data": {
      "text/plain": [
       "'Image:'"
      ]
     },
     "metadata": {},
     "output_type": "display_data"
    },
    {
     "data": {
      "image/jpeg": "[encoded data removed]",
      "text/plain": [
       "<IPython.core.display.Image object>"
      ]
     },
     "metadata": {},
     "output_type": "display_data"
    },
    {
     "name": "stdout",
     "output_type": "stream",
     "text": [
      "Title : Supernatural Chibis Sam Dean And Castiel Slim Fit T-Shirt For Women DeepHeather XS\n",
      "Distance from the Query image : 21.078283\n",
      "**********************************************************************\n"
     ]
    },
    {
     "data": {
      "text/plain": [
       "'Image:'"
      ]
     },
     "metadata": {},
     "output_type": "display_data"
    },
    {
     "data": {
      "image/jpeg": "[encoded data removed]",
      "text/plain": [
       "<IPython.core.display.Image object>"
      ]
     },
     "metadata": {},
     "output_type": "display_data"
    },
    {
     "name": "stdout",
     "output_type": "stream",
     "text": [
      "Title : SHJQ Women's Tshirt Cute Lana Del Rey Black Size M\n",
      "Distance from the Query image : 22.077589\n",
      "**********************************************************************\n"
     ]
    }
   ],
   "source": [
    "from IPython.display import display, Image, SVG, Math, YouTubeVideo\n",
    "from sklearn.metrics import pairwise_distances\n",
    "df_asins = list(data['asin'])\n",
    "def ImageBasedReccomendation(data_id, numOfResults):\n",
    "    data_id = ModifiedDataAsin.index(df_asins[data_id])\n",
    "    PairWiseFunction = pairwise_distances(ModifiedDataPostCNN,ModifiedDataPostCNN[data_id].reshape(1,-1))\n",
    "    indices = np.argsort(PairWiseFunction.flatten())[0:numOfResults]\n",
    "    distances = np.sort(PairWiseFunction.flatten())[0:numOfResults]\n",
    "    for i in range(len(indices)):\n",
    "        rows = data[['medium_image_url','title']].loc[data['asin'] == ModifiedDataAsin[indices[i]]]\n",
    "        for index,row in rows.iterrows():\n",
    "            display(\"Image:\",Image(url=row['medium_image_url'], embed=True))\n",
    "            print(\"Title :\",row['title'])\n",
    "            print(\"Distance from the Query image :\",distances[i])\n",
    "            print('*'*70)\n",
    "            \n",
    "    \n",
    "ImageBasedReccomendation(124, 10)"
   ]
  },
  {
   "cell_type": "code",
   "execution_count": null,
   "metadata": {},
   "outputs": [],
   "source": []
  },
  {
   "cell_type": "code",
   "execution_count": null,
   "metadata": {},
   "outputs": [],
   "source": []
  }
 ],
 "metadata": {
  "kernelspec": {
   "display_name": "Python 3",
   "language": "python",
   "name": "python3"
  },
  "language_info": {
   "codemirror_mode": {
    "name": "ipython",
    "version": 3
   },
   "file_extension": ".py",
   "mimetype": "text/x-python",
   "name": "python",
   "nbconvert_exporter": "python",
   "pygments_lexer": "ipython3",
   "version": "3.7.7"
  }
 },
 "nbformat": 4,
 "nbformat_minor": 4
}
